{
 "cells": [
  {
   "cell_type": "code",
   "execution_count": 1,
   "id": "f34d2cb6-800e-43ac-81ed-70e5eece6a3c",
   "metadata": {},
   "outputs": [],
   "source": [
    "#import libraries\n",
    "import pandas as pd\n",
    "import os"
   ]
  },
  {
   "cell_type": "code",
   "execution_count": 3,
   "id": "94951764-e9e6-419c-b492-cf0831a8ac41",
   "metadata": {},
   "outputs": [],
   "source": [
    "#define the path to the CSV files (current directory)\n",
    "path = '.'\n",
    "\n",
    "#list all CSV files in the directory\n",
    "csv_files = [f for f in os.listdir(path) if f.endswith('.csv')]\n",
    "\n",
    "#initialize an empty list to hold DataFrames\n",
    "dfs = []\n",
    "\n",
    "#loop through CSV files and append each to the list\n",
    "for file in csv_files:\n",
    "    df = pd.read_csv(os.path.join(path, file))\n",
    "    dfs.append(df)\n",
    "\n",
    "#concatenate all the DataFrames into a single DataFrame\n",
    "combined_df = pd.concat(dfs, ignore_index=True)\n",
    "\n",
    "#save the combined DataFrame to a new CSV file\n",
    "combined_df.to_csv('combined_citibike_data.csv', index=False)"
   ]
  },
  {
   "cell_type": "code",
   "execution_count": null,
   "id": "891cb8e5-2dd6-4ae6-b497-ac931cc47799",
   "metadata": {},
   "outputs": [],
   "source": []
  }
 ],
 "metadata": {
  "kernelspec": {
   "display_name": "Python 3 (ipykernel)",
   "language": "python",
   "name": "python3"
  },
  "language_info": {
   "codemirror_mode": {
    "name": "ipython",
    "version": 3
   },
   "file_extension": ".py",
   "mimetype": "text/x-python",
   "name": "python",
   "nbconvert_exporter": "python",
   "pygments_lexer": "ipython3",
   "version": "3.11.7"
  }
 },
 "nbformat": 4,
 "nbformat_minor": 5
}
